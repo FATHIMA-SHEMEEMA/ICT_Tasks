{
  "nbformat": 4,
  "nbformat_minor": 0,
  "metadata": {
    "colab": {
      "provenance": []
    },
    "kernelspec": {
      "name": "python3",
      "display_name": "Python 3"
    },
    "language_info": {
      "name": "python"
    }
  },
  "cells": [
    {
      "cell_type": "markdown",
      "source": [
        "# 1. Write a Python program which accepts the radius of a circle from the user\n",
        "and compute the area."
      ],
      "metadata": {
        "id": "5TdZIxtwXUtX"
      }
    },
    {
      "cell_type": "code",
      "source": [
        "radius=int(input(\"Enter the radius :\"))\n",
        "radius=3.14*radius**2\n",
        "print(\"Area of a Circle:\",radius)\n"
      ],
      "metadata": {
        "colab": {
          "base_uri": "https://localhost:8080/"
        },
        "id": "ZxhugVHtXNyf",
        "outputId": "3c8039c3-6178-4a37-aae3-709a4c5f7d8d"
      },
      "execution_count": 3,
      "outputs": [
        {
          "output_type": "stream",
          "name": "stdout",
          "text": [
            "Enter the radius :3\n",
            "Area of a Circle: 28.26\n"
          ]
        }
      ]
    },
    {
      "cell_type": "markdown",
      "source": [
        "# 2. Write a Python Program to accept the details of a student like name, roll\n",
        "#number and mark and display it."
      ],
      "metadata": {
        "id": "-LvtQ5-2ZO4N"
      }
    },
    {
      "cell_type": "code",
      "source": [
        "name=input(\"Enter the name:\")\n",
        "rollno=int(input(\"Enter the roll number:\"))\n",
        "mark=int(input(\"Enter the mark:\"))\n",
        "print(name)\n",
        "print(rollno)\n",
        "print(mark)"
      ],
      "metadata": {
        "colab": {
          "base_uri": "https://localhost:8080/"
        },
        "id": "m3m_3f8vXe4l",
        "outputId": "7a1e9408-b047-4616-af6f-c8a2fa99e27f"
      },
      "execution_count": 6,
      "outputs": [
        {
          "output_type": "stream",
          "name": "stdout",
          "text": [
            "Enter the name:Anisha\n",
            "Enter the roll number:21\n",
            "Enter the mark:78\n",
            "Anisha\n",
            "21\n",
            "78\n"
          ]
        }
      ]
    },
    {
      "cell_type": "markdown",
      "source": [
        "# 3. Write a Python program to get the largest number from a list.\n"
      ],
      "metadata": {
        "id": "p28dz3Qka6UL"
      }
    },
    {
      "cell_type": "code",
      "source": [
        "largelist=[12,3,47,10]\n",
        "print(max(largelist))\n"
      ],
      "metadata": {
        "colab": {
          "base_uri": "https://localhost:8080/"
        },
        "id": "2Vvn5e2EXN2J",
        "outputId": "2e52036a-7018-4651-f688-d1cf9c8458e2"
      },
      "execution_count": 8,
      "outputs": [
        {
          "output_type": "stream",
          "name": "stdout",
          "text": [
            "47\n"
          ]
        }
      ]
    },
    {
      "cell_type": "markdown",
      "source": [
        "# 4. Given a range of first 10 numbers, write a Python program to iterate from\n",
        "start number to the end number and print the sum of the current number\n",
        "and previous number."
      ],
      "metadata": {
        "id": "FVMKoveDbuJe"
      }
    },
    {
      "cell_type": "code",
      "source": [
        "previous_num= 0\n",
        "\n",
        "for i in range(1,11):\n",
        "  sum= previous_num + i\n",
        "  print(\"Current Number:\", i, \"Previous Number:\", previous_num ,\"Sum\",sum )\n",
        "  previous_num=i\n",
        "\n"
      ],
      "metadata": {
        "colab": {
          "base_uri": "https://localhost:8080/"
        },
        "id": "WzO898I5bGDT",
        "outputId": "de198a6b-fcf0-4ec1-ec75-d84e5096e21f"
      },
      "execution_count": 53,
      "outputs": [
        {
          "output_type": "stream",
          "name": "stdout",
          "text": [
            "Current Number: 1 Previous Number: 0 Sum 1\n",
            "Current Number: 2 Previous Number: 1 Sum 3\n",
            "Current Number: 3 Previous Number: 2 Sum 5\n",
            "Current Number: 4 Previous Number: 3 Sum 7\n",
            "Current Number: 5 Previous Number: 4 Sum 9\n",
            "Current Number: 6 Previous Number: 5 Sum 11\n",
            "Current Number: 7 Previous Number: 6 Sum 13\n",
            "Current Number: 8 Previous Number: 7 Sum 15\n",
            "Current Number: 9 Previous Number: 8 Sum 17\n",
            "Current Number: 10 Previous Number: 9 Sum 19\n"
          ]
        }
      ]
    },
    {
      "cell_type": "markdown",
      "source": [],
      "metadata": {
        "id": "5uqZ08l9dJJ2"
      }
    },
    {
      "cell_type": "markdown",
      "source": [
        "# 5. Write a Python program to print only those numbers which are divisible\n",
        "of 5."
      ],
      "metadata": {
        "id": "qItYGpgrdJMt"
      }
    },
    {
      "cell_type": "code",
      "source": [
        "num=[10,20,33,46,55]\n",
        "print(\"The numbers are:\",num)\n",
        "print(\"Divisible by 5\")\n",
        "for i in num:\n",
        "  if i% 5==0:\n",
        "    print(i)"
      ],
      "metadata": {
        "colab": {
          "base_uri": "https://localhost:8080/"
        },
        "id": "kCQm6QH0cGkv",
        "outputId": "be81c690-2c31-45b6-9d78-d171fa382af0"
      },
      "execution_count": 16,
      "outputs": [
        {
          "output_type": "stream",
          "name": "stdout",
          "text": [
            "The numbers are: [10, 20, 33, 46, 55]\n",
            "Divisible by 5\n",
            "10\n",
            "20\n",
            "55\n"
          ]
        }
      ]
    },
    {
      "cell_type": "markdown",
      "source": [
        "# 6. Write a Python program to check whether a number is prime or not."
      ],
      "metadata": {
        "id": "_XtaCUl0fNsp"
      }
    },
    {
      "cell_type": "code",
      "source": [
        "prime=int(input(\"Enter the number\"))\n",
        "if prime>1:\n",
        "  for i in range(2,prime//2+1):\n",
        "    if prime%i==0:\n",
        "      print(prime,\"is not prime Number\")\n",
        "      break;\n",
        "  else:\n",
        "      print(prime, \"is prime Number \")\n",
        "else:\n",
        "  print(prime,\"is not a prime number\")\n",
        "\n",
        "\n"
      ],
      "metadata": {
        "colab": {
          "base_uri": "https://localhost:8080/"
        },
        "id": "qDfBatUHXN7X",
        "outputId": "2b1963d2-b2f0-4aff-c9e7-e46528cf46d0"
      },
      "execution_count": 25,
      "outputs": [
        {
          "output_type": "stream",
          "name": "stdout",
          "text": [
            "Enter the number3\n",
            "3 is prime Number \n"
          ]
        }
      ]
    },
    {
      "cell_type": "markdown",
      "source": [
        "# 7. Write a Python program to reverse a list using for loop."
      ],
      "metadata": {
        "id": "jBpejvkGo6hR"
      }
    },
    {
      "cell_type": "code",
      "source": [
        "list=[54,2,6,3,90,30]\n",
        "for i in list[::-1]:\n",
        "  print(i)"
      ],
      "metadata": {
        "colab": {
          "base_uri": "https://localhost:8080/"
        },
        "id": "QZLHobwXfSCt",
        "outputId": "5551517d-3373-4035-8c9d-74bc29ab2e36"
      },
      "execution_count": 30,
      "outputs": [
        {
          "output_type": "stream",
          "name": "stdout",
          "text": [
            "30\n",
            "90\n",
            "3\n",
            "6\n",
            "2\n",
            "54\n"
          ]
        }
      ]
    },
    {
      "cell_type": "markdown",
      "source": [
        "# 8. Write a Python program to print the following pattern."
      ],
      "metadata": {
        "id": "sDvcArd0p8I5"
      }
    },
    {
      "cell_type": "code",
      "source": [
        "def pattern(n):\n",
        "  for i in range(1,n+1):\n",
        "    for j in range(1,i+1):\n",
        "      print(\"*\", end=\"\")\n",
        "    print(\"\")\n",
        "\n",
        "n=int(input(\"Enter a number:\"))\n",
        "pattern(n)\n",
        "`\n"
      ],
      "metadata": {
        "colab": {
          "base_uri": "https://localhost:8080/"
        },
        "id": "k_Uihhatp7Co",
        "outputId": "d21975f1-5207-41be-d5ad-52bc549136d2"
      },
      "execution_count": 31,
      "outputs": [
        {
          "output_type": "stream",
          "name": "stdout",
          "text": [
            "Enter a number:5\n",
            "*\n",
            "**\n",
            "***\n",
            "****\n",
            "*****\n"
          ]
        }
      ]
    },
    {
      "cell_type": "markdown",
      "source": [
        "# 9. Write a Python program to find the maximum of three numbers"
      ],
      "metadata": {
        "id": "aZO8aC59uEHw"
      }
    },
    {
      "cell_type": "code",
      "source": [
        "num=[34,12,7]\n",
        "print(max(num))"
      ],
      "metadata": {
        "colab": {
          "base_uri": "https://localhost:8080/"
        },
        "id": "nffpe9ZZt-Mz",
        "outputId": "db31f91e-6339-4fe4-fa09-487c4b1262c6"
      },
      "execution_count": 32,
      "outputs": [
        {
          "output_type": "stream",
          "name": "stdout",
          "text": [
            "34\n"
          ]
        }
      ]
    },
    {
      "cell_type": "markdown",
      "source": [
        "# 10. Write a Python program to construct the following pattern, using a\n",
        "nested for loop."
      ],
      "metadata": {
        "id": "RZS0iB2wuch3"
      }
    },
    {
      "cell_type": "code",
      "source": [
        "def newpattern(n):\n",
        "\n",
        "    for i in range(1,n+1):\n",
        "      print('*' * i)\n",
        "\n",
        "      #for j in range(1,i+1):\n",
        "        #print(\"*\", end=\"\")\n",
        "     # print(\"\")\n",
        "\n",
        "\n",
        "# Construct the lower part of the pattern\n",
        "    for i in range(n - 1, 0, -1):\n",
        "       print('*' * i)\n",
        "\n",
        "\n",
        "\n",
        "\n",
        "n=int(input(\"Enter a number:\"))\n",
        "newpattern(n)\n"
      ],
      "metadata": {
        "colab": {
          "base_uri": "https://localhost:8080/"
        },
        "id": "tbZTMnBJp7IO",
        "outputId": "f9b36152-0e7d-4de2-c61f-052a77bde6c4"
      },
      "execution_count": 45,
      "outputs": [
        {
          "output_type": "stream",
          "name": "stdout",
          "text": [
            "Enter a number:5\n",
            "*\n",
            "**\n",
            "***\n",
            "****\n",
            "*****\n",
            "****\n",
            "***\n",
            "**\n",
            "*\n"
          ]
        }
      ]
    },
    {
      "cell_type": "code",
      "source": [],
      "metadata": {
        "id": "K5TeitThuiy4"
      },
      "execution_count": null,
      "outputs": []
    }
  ]
}