{
  "nbformat": 4,
  "nbformat_minor": 0,
  "metadata": {
    "colab": {
      "provenance": []
    },
    "kernelspec": {
      "name": "python3",
      "display_name": "Python 3"
    },
    "language_info": {
      "name": "python"
    }
  },
  "cells": [
    {
      "cell_type": "code",
      "execution_count": null,
      "metadata": {
        "id": "1T4jSybP2fFP"
      },
      "outputs": [],
      "source": []
    },
    {
      "cell_type": "markdown",
      "source": [
        "# 1. Write a Python program to accept a string value from the user and display\n",
        "the count of each character in that string."
      ],
      "metadata": {
        "id": "m87sCQgj2llw"
      }
    },
    {
      "cell_type": "code",
      "source": [
        "def count_characters(string):\n",
        "    # Create an empty dictionary to store character counts\n",
        "    char_count = {}\n",
        "\n",
        "    # Count each character in the string\n",
        "    for char in string:\n",
        "        if char in char_count:\n",
        "            char_count[char] += 1\n",
        "        else:\n",
        "            char_count[char] = 1\n",
        "\n",
        "    return char_count\n",
        "\n",
        "# Prompt the user to enter a string\n",
        "input_string = input(\"Enter a string value: \")\n",
        "\n",
        "# Get the character counts\n",
        "character_counts = count_characters(input_string)\n",
        "\n",
        "# Print the results\n",
        "print(\"Sample output:\", end=\" \")\n",
        "for char, count in character_counts.items():\n",
        "    print(f\"{char}={count},\", end=\" \")\n",
        "print()  # to move to the next line after the loop\n"
      ],
      "metadata": {
        "colab": {
          "base_uri": "https://localhost:8080/"
        },
        "id": "ilIPE3gH2fwW",
        "outputId": "96676ecf-8280-40b2-c8c9-e7d0a572682c"
      },
      "execution_count": 46,
      "outputs": [
        {
          "output_type": "stream",
          "name": "stdout",
          "text": [
            "Enter a string value: assembly\n",
            "Sample output: a=1, s=2, e=1, m=1, b=1, l=1, y=1, \n"
          ]
        }
      ]
    },
    {
      "cell_type": "markdown",
      "source": [
        "# 2. . Write a Python function to find the maximum of three numbers Sample\n",
        "input: 34,12,7"
      ],
      "metadata": {
        "id": "VLuWxInI3bjI"
      }
    },
    {
      "cell_type": "code",
      "source": [
        "def max(a,b,c):\n",
        "  if a >= b and a >=c:\n",
        "    print(\"Large\", a)\n",
        "  elif b >= c and b >=c:\n",
        "    print(\"Large\", b)\n",
        "  else:\n",
        "    print(\"Large\",c)\n",
        "\n",
        "\n",
        "a=int(input(\"Enter a first number:\"))\n",
        "b=int(input(\"Enter a second number:\"))\n",
        "c=int(input(\"Enter a third number:\"))\n",
        "\n",
        "max(a,b,c)"
      ],
      "metadata": {
        "colab": {
          "base_uri": "https://localhost:8080/"
        },
        "id": "Wc8VWKpt3a0C",
        "outputId": "a7d2bbe0-dddf-43ff-9398-f12b2d21e6a4"
      },
      "execution_count": null,
      "outputs": [
        {
          "output_type": "stream",
          "name": "stdout",
          "text": [
            "Enter a first number:34\n",
            "Enter a second number:12\n",
            "Enter a third number:7\n",
            "Large 34\n"
          ]
        }
      ]
    },
    {
      "cell_type": "code",
      "source": [],
      "metadata": {
        "id": "RQ81SUC63a1U"
      },
      "execution_count": null,
      "outputs": []
    },
    {
      "cell_type": "markdown",
      "source": [
        "# 3. Write a Python function called exponent(base,exp) that returns an\n",
        "integer value of base raises to the power of exp."
      ],
      "metadata": {
        "id": "WUGMTk1E57SL"
      }
    },
    {
      "cell_type": "code",
      "source": [
        "def expp(base,exp):\n",
        "  print(base**exp)\n",
        "\n",
        "base=int(input(\"Enter the base:\"))\n",
        "exp=int(input(\"Enter the exponent:\"))\n",
        "\n",
        "expp(base,exp)"
      ],
      "metadata": {
        "colab": {
          "base_uri": "https://localhost:8080/"
        },
        "id": "P6sdjsKz56Mb",
        "outputId": "19ba8428-dd57-4d35-f5c0-7f87cbd7ccb4"
      },
      "execution_count": null,
      "outputs": [
        {
          "output_type": "stream",
          "name": "stdout",
          "text": [
            "Enter the base:2\n",
            "Enter the exponent:3\n",
            "8\n"
          ]
        }
      ]
    },
    {
      "cell_type": "code",
      "source": [],
      "metadata": {
        "id": "CwTL6hKX56PT"
      },
      "execution_count": null,
      "outputs": []
    },
    {
      "cell_type": "markdown",
      "source": [
        "# 4. Write a Python function that takes a positive integer and returns the sum\n",
        "of the cube of all the positive integers smaller than the specified number."
      ],
      "metadata": {
        "id": "4m6Fetq87HXC"
      }
    },
    {
      "cell_type": "code",
      "source": [
        "def cube(n):\n",
        "  sum=0\n",
        "  for i in range(1,n):\n",
        "    sum += i**3\n",
        "\n",
        "  return sum\n",
        "\n",
        "n=int(input(\"Enter a number:\"))\n",
        "cube(n)\n"
      ],
      "metadata": {
        "colab": {
          "base_uri": "https://localhost:8080/"
        },
        "id": "saG76QFd3a5k",
        "outputId": "e096c3e5-01ac-42c9-8101-6eb360fa7ee0"
      },
      "execution_count": null,
      "outputs": [
        {
          "name": "stdout",
          "output_type": "stream",
          "text": [
            "Enter a number:4\n"
          ]
        },
        {
          "output_type": "execute_result",
          "data": {
            "text/plain": [
              "36"
            ]
          },
          "metadata": {},
          "execution_count": 11
        }
      ]
    },
    {
      "cell_type": "code",
      "source": [],
      "metadata": {
        "id": "Mz0H7uDY8WFN"
      },
      "execution_count": null,
      "outputs": []
    },
    {
      "cell_type": "markdown",
      "source": [
        "#5. Write a Python program which iterates from 1 to 10. For multiples of 2,\n",
        "print “Fizz” instead of the number and for the multiples of 5, print “Buzz”.\n",
        "For numbers which are multiples of both 2 and 5, print “FizzBuzz”.\n",
        "Sample input: numbers from 1 to 10"
      ],
      "metadata": {
        "id": "V2GLXvzX9STQ"
      }
    },
    {
      "cell_type": "code",
      "source": [
        "for i in range (1,11):\n",
        "  if i % 2 == 0 and  i % 5 ==0 :\n",
        "    print(\"FizzBuzz\")\n",
        "  elif i % 2 ==0 :\n",
        "    print(\"Fizz\")\n",
        "  elif i % 5==0:\n",
        "    print(\"Buzz\")\n",
        "  else:\n",
        "    print(i)\n",
        "\n",
        "\n"
      ],
      "metadata": {
        "colab": {
          "base_uri": "https://localhost:8080/"
        },
        "id": "B9e8VRMK9Qif",
        "outputId": "d8086ded-644e-4afc-f4e7-f0b8911ecc59"
      },
      "execution_count": null,
      "outputs": [
        {
          "output_type": "stream",
          "name": "stdout",
          "text": [
            "1\n",
            "Fizz\n",
            "3\n",
            "Fizz\n",
            "Buzz\n",
            "Fizz\n",
            "7\n",
            "Fizz\n",
            "9\n",
            "FizzBuzz\n"
          ]
        }
      ]
    },
    {
      "cell_type": "code",
      "source": [],
      "metadata": {
        "id": "B0SfeaEL9Qjz"
      },
      "execution_count": null,
      "outputs": []
    },
    {
      "cell_type": "markdown",
      "source": [
        "# 6. Write a Python program to find the most frequent item in a list of\n",
        "numbers."
      ],
      "metadata": {
        "id": "wBAxdoR4DKEw"
      }
    },
    {
      "cell_type": "code",
      "source": [
        "def most_frequent(numbers):\n",
        "    # Dictionary to store frequency of each number\n",
        "    frequency = {}\n",
        "\n",
        "    # Count frequency of each number in the list\n",
        "    for num in numbers:\n",
        "        if num in frequency:\n",
        "            frequency[num] += 1\n",
        "        else:\n",
        "            frequency[num] = 1\n",
        "\n",
        "    # Find the number with maximum frequency\n",
        "    most_frequent_num = None\n",
        "    max_frequency = 0\n",
        "    for num, freq in frequency.items():\n",
        "        if freq > max_frequency:\n",
        "            max_frequency = freq\n",
        "            most_frequent_num = num\n",
        "\n",
        "    return most_frequent_num\n",
        "\n",
        "# Sample input list of numbers\n",
        "numbers = [2, 3, 4, 2, 5, 2]\n",
        "\n",
        "# Find the most frequent number\n",
        "result = most_frequent(numbers)\n",
        "print(f\"The most frequent number is: {result}\")\n"
      ],
      "metadata": {
        "colab": {
          "base_uri": "https://localhost:8080/"
        },
        "id": "xzRmnwV2DOqh",
        "outputId": "9f424b97-57d9-46c8-97a4-21185fc83d97"
      },
      "execution_count": 49,
      "outputs": [
        {
          "output_type": "stream",
          "name": "stdout",
          "text": [
            "The most frequent number is: 2\n"
          ]
        }
      ]
    },
    {
      "cell_type": "markdown",
      "source": [
        "# 7. Write a Python program to find the sum of squares of the numbers in a\n",
        "list."
      ],
      "metadata": {
        "id": "NqW3fVmEDBZH"
      }
    },
    {
      "cell_type": "code",
      "source": [
        "def listsum(list):\n",
        "  sum=0\n",
        "  for i in list:\n",
        "    sum += i **2\n",
        "  return sum\n",
        "\n",
        "list=[2,1,3,1]\n",
        "listsum(list)\n",
        "\n",
        "\n"
      ],
      "metadata": {
        "colab": {
          "base_uri": "https://localhost:8080/"
        },
        "id": "o6TsPnLUDApk",
        "outputId": "9b084cdb-9d11-41ff-a4da-5d746f2f229a"
      },
      "execution_count": null,
      "outputs": [
        {
          "output_type": "execute_result",
          "data": {
            "text/plain": [
              "15"
            ]
          },
          "metadata": {},
          "execution_count": 34
        }
      ]
    },
    {
      "cell_type": "markdown",
      "source": [
        "# 8. Write a Python program using for loop that will iterate from 1 to 15. For\n",
        "each iteration, check if the current number is odd or even, and display the\n",
        "message to the screen as odd or even."
      ],
      "metadata": {
        "id": "BJY6i0CwHSQN"
      }
    },
    {
      "cell_type": "code",
      "source": [
        "\n",
        "for i in range(1,16):\n",
        "  if i%2==0:\n",
        "    print(i,\"Is even\")\n",
        "  else:\n",
        "    print(i,\"Is odd\")\n",
        "\n"
      ],
      "metadata": {
        "colab": {
          "base_uri": "https://localhost:8080/"
        },
        "id": "j7sMbUKj9QnV",
        "outputId": "43ac11b5-227e-4798-d666-496971bef3a2"
      },
      "execution_count": null,
      "outputs": [
        {
          "output_type": "stream",
          "name": "stdout",
          "text": [
            "1 Is odd\n",
            "2 Is even\n",
            "3 Is odd\n",
            "4 Is even\n",
            "5 Is odd\n",
            "6 Is even\n",
            "7 Is odd\n",
            "8 Is even\n",
            "9 Is odd\n",
            "10 Is even\n",
            "11 Is odd\n",
            "12 Is even\n",
            "13 Is odd\n",
            "14 Is even\n",
            "15 Is odd\n"
          ]
        }
      ]
    },
    {
      "cell_type": "code",
      "source": [],
      "metadata": {
        "id": "iHslyRIGHZmO"
      },
      "execution_count": null,
      "outputs": []
    },
    {
      "cell_type": "markdown",
      "source": [
        "# 9. Write a Python program to convert temperatures to and from Celsius\n",
        "Fahrenheit. [Formula: c/5=f-32/9 where c=temperature in Celsius and f=\n",
        "temperature in Fahrenheit.]"
      ],
      "metadata": {
        "id": "6zxIoxbuIedt"
      }
    },
    {
      "cell_type": "code",
      "source": [
        "def celsius_to_fahrenheit(celsius):\n",
        "    fahrenheit = (celsius * 9/5) + 32\n",
        "    return fahrenheit\n",
        "\n",
        "def fahrenheit_to_celsius(fahrenheit):\n",
        "    celsius = (fahrenheit - 32) * 5/9\n",
        "    return celsius\n",
        "\n",
        "# Example usage:\n",
        "celsius_temperature = 5\n",
        "fahrenheit_temperature = 41\n",
        "\n",
        "converted_fahrenheit = celsius_to_fahrenheit(celsius_temperature)\n",
        "converted_celsius = fahrenheit_to_celsius(fahrenheit_temperature)\n",
        "\n",
        "print(f\"{celsius_temperature} degrees Celsius is equal to {converted_fahrenheit} degrees Fahrenheit.\")\n",
        "print(f\"{fahrenheit_temperature} degrees Fahrenheit is equal to {converted_celsius} degrees Celsius.\")\n"
      ],
      "metadata": {
        "id": "emLUSW67HZnp",
        "colab": {
          "base_uri": "https://localhost:8080/"
        },
        "outputId": "bbec5a4c-e555-4462-c193-e304491f0573"
      },
      "execution_count": 48,
      "outputs": [
        {
          "output_type": "stream",
          "name": "stdout",
          "text": [
            "5 degrees Celsius is equal to 41.0 degrees Fahrenheit.\n",
            "41 degrees Fahrenheit is equal to 5.0 degrees Celsius.\n"
          ]
        }
      ]
    },
    {
      "cell_type": "markdown",
      "source": [
        "# 10. Write a Python function to calculate the factorial of a number (a\n",
        "nonnegative integer). T"
      ],
      "metadata": {
        "id": "Qp_FX2iGKGm3"
      }
    },
    {
      "cell_type": "code",
      "source": [
        "def fact(n):\n",
        "  if n==0:\n",
        "    return 1\n",
        "\n",
        "     # Recursive case: factorial of n is n multiplied by factorial of (n-1)\n",
        "  else:\n",
        "        return n * fact(n - 1)\n",
        "\n",
        "n=int(input(\"Enter a number:\"))\n",
        "fact(n)"
      ],
      "metadata": {
        "id": "fAABpIXDHZrz",
        "colab": {
          "base_uri": "https://localhost:8080/"
        },
        "outputId": "3ef671f6-6d0d-4e9a-aa52-f71405a39acd"
      },
      "execution_count": 45,
      "outputs": [
        {
          "name": "stdout",
          "output_type": "stream",
          "text": [
            "Enter a number:3\n"
          ]
        },
        {
          "output_type": "execute_result",
          "data": {
            "text/plain": [
              "6"
            ]
          },
          "metadata": {},
          "execution_count": 45
        }
      ]
    },
    {
      "cell_type": "code",
      "source": [],
      "metadata": {
        "id": "74U5cMdW9QqQ"
      },
      "execution_count": null,
      "outputs": []
    }
  ]
}